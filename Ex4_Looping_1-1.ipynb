{
  "nbformat": 4,
  "nbformat_minor": 0,
  "metadata": {
    "colab": {
      "provenance": [],
      "collapsed_sections": []
    },
    "kernelspec": {
      "name": "python3",
      "display_name": "Python 3"
    },
    "language_info": {
      "name": "python"
    }
  },
  "cells": [
    {
      "cell_type": "markdown",
      "metadata": {
        "id": "view-in-github"
      },
      "source": [
        "<a href=\"https://colab.research.google.com/github/myothida/PythonProgramming/blob/main/Ex4_Looping.ipynb\" target=\"_parent\"><img src=\"https://colab.research.google.com/assets/colab-badge.svg\" alt=\"Open In Colab\"/></a>"
      ]
    },
    {
      "cell_type": "markdown",
      "source": [
        "The exercises are extracted from A_Practical_Introduction_to_Python_Programming_Heinold.pdf"
      ],
      "metadata": {
        "id": "YeTHwB3EASGn"
      }
    },
    {
      "cell_type": "markdown",
      "source": [
        "Ex 1: Write a program that uses a while loop (not a for loop) to read through a string and print\n",
        "\n",
        "> Indented block\n",
        "\n",
        "\n",
        "the characters of the string one-by-one on separate lines."
      ],
      "metadata": {
        "id": "wVOW5QDgAZ_R"
      }
    },
    {
      "cell_type": "code",
      "source": [
        "i = \"Emily Nang\"\n",
        "a = 0\n",
        "while a < len(i):\n",
        "  print(i[a])\n",
        "  a += 1\n",
        "  "
      ],
      "metadata": {
        "colab": {
          "base_uri": "https://localhost:8080/"
        },
        "id": "bQHgyQmC5tWz",
        "outputId": "d45185ec-4b51-4c84-c0ee-213ab312b5f6"
      },
      "execution_count": null,
      "outputs": [
        {
          "output_type": "stream",
          "name": "stdout",
          "text": [
            "E\n",
            "m\n",
            "i\n",
            "l\n",
            "y\n",
            " \n",
            "N\n",
            "a\n",
            "n\n",
            "g\n"
          ]
        }
      ]
    },
    {
      "cell_type": "markdown",
      "source": [
        "Ex 2: A good program will make sure that the data its users enter is valid. Write a program that\n",
        "asks the user for a weight and converts it from kilograms to pounds. Whenever the user\n",
        "enters a weight below 0, the program should tell them that their entry is invalid and then ask\n",
        "them again to enter a weight. [Hint: Use a while loop, not an if statement]."
      ],
      "metadata": {
        "id": "5B-LyYV0AkCK"
      }
    },
    {
      "cell_type": "code",
      "source": [
        "while (-1<0):\n",
        "  weight = float (input(\"The kilogram:\"))\n",
        "  if ( weight <0):\n",
        "    print(\"invalid\")\n",
        "  else:\n",
        "      lb = weight * 2.2\n",
        "      print(lb)\n",
        "      break\n",
        "      \n"
      ],
      "metadata": {
        "id": "3wlQNBuYB2nX",
        "colab": {
          "base_uri": "https://localhost:8080/"
        },
        "outputId": "939e620d-34a0-43f0-b47c-5f587f50c6f1"
      },
      "execution_count": null,
      "outputs": [
        {
          "output_type": "stream",
          "name": "stdout",
          "text": [
            "The kilogram:-7\n",
            "invalid\n",
            "The kilogram:7\n",
            "15.400000000000002\n"
          ]
        }
      ]
    },
    {
      "cell_type": "code",
      "source": [],
      "metadata": {
        "id": "gpRZnsXjArkF"
      },
      "execution_count": null,
      "outputs": []
    },
    {
      "cell_type": "markdown",
      "source": [
        "Ex 3: Write a program that allows the user to enter any number of test scores. The user indicates\n",
        "they are done by entering in a negative number. Print how many of the scores are A’s (90 or\n",
        "above). Also print out the average"
      ],
      "metadata": {
        "id": "zQT0pCjRAsIK"
      }
    },
    {
      "cell_type": "code",
      "source": [
        "score = float(input(\"enter your score:\"))\n",
        "num = 0\n",
        "idx = 0\n",
        "score_a = 0\n",
        "\n",
        "while (score >= 0):\n",
        "  num = num + score\n",
        "  idx = idx + 1\n",
        "  print(num, idx)\n",
        "\n",
        "  if (score >= 90):\n",
        "    score_a = score_a + 1\n",
        "\n",
        "  else:\n",
        "    score_a = score_a\n",
        "\n",
        "  score = float(input(\"enter your score:\"))\n",
        "\n",
        "result = num/idx\n",
        "print(result, score_a)"
      ],
      "metadata": {
        "id": "frfPkD6do8XY",
        "colab": {
          "base_uri": "https://localhost:8080/"
        },
        "outputId": "72efdd68-e49d-4ba5-a023-ae9ff701228b"
      },
      "execution_count": 10,
      "outputs": [
        {
          "output_type": "stream",
          "name": "stdout",
          "text": [
            "enter your score:69\n",
            "69.0 1\n",
            "enter your score:76\n",
            "145.0 2\n",
            "enter your score:91\n",
            "236.0 3\n",
            "enter your score:91\n",
            "327.0 4\n",
            "enter your score:87\n",
            "414.0 5\n",
            "enter your score:98\n",
            "512.0 6\n",
            "enter your score:-1\n",
            "85.33333333333333 3\n"
          ]
        }
      ]
    },
    {
      "cell_type": "markdown",
      "source": [
        "Ex 4: Write a program that asks the user for a string and a letter. Using a for loop, the\n",
        "program should print the index of the first occurrence of that letter and a message if the\n",
        "string does not contain the letter."
      ],
      "metadata": {
        "id": "IHIWc5jHAwxY"
      }
    },
    {
      "cell_type": "code",
      "source": [
        "info = input(\" a string :\")\n",
        "letter = input(\"a letter:\")\n",
        "index = 0\n",
        "for x in letter\n",
        "  if x== info:\n",
        "    print(x)\n",
        "  else:\n",
        "    print(\"a message does not contain\")\n",
        "\n"
      ],
      "metadata": {
        "id": "xSe0mtQ8A68M",
        "colab": {
          "base_uri": "https://localhost:8080/"
        },
        "outputId": "1a400b8e-bd8e-47ef-fc75-491b3154fa5e"
      },
      "execution_count": null,
      "outputs": [
        {
          "output_type": "stream",
          "name": "stdout",
          "text": [
            " a string :emily\n",
            "a letter:a\n",
            "a message does not contain\n"
          ]
        }
      ]
    },
    {
      "cell_type": "markdown",
      "source": [
        "Ex 5: Write a program in which you have a list that contains seven integers that can be 0 or 1. Find the first nonzero entry in the list and change it to a 1. If there are no nonzero entries, print a message saying so."
      ],
      "metadata": {
        "id": "PfyUq4CnA8vk"
      }
    },
    {
      "cell_type": "code",
      "source": [
        "list_1 =[1,0,0,0,0,1,0]\n",
        "for idx, x in enumerate(list_1):\n",
        "  if(x == 1):\n",
        "    list_1[idx]= 0\n",
        "    print(list_1)\n",
        "    break\n",
        "\n"
      ],
      "metadata": {
        "id": "CK3lfsB_BIhM",
        "colab": {
          "base_uri": "https://localhost:8080/"
        },
        "outputId": "106fcc91-9a47-42f3-c0a2-32b7d5e1445c"
      },
      "execution_count": 13,
      "outputs": [
        {
          "output_type": "stream",
          "name": "stdout",
          "text": [
            "[0, 0, 0, 0, 0, 1, 0]\n"
          ]
        }
      ]
    }
  ]
}