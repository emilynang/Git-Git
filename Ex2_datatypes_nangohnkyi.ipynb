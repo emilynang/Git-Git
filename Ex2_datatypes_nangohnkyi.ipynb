{
  "cells": [
    {
      "cell_type": "markdown",
      "metadata": {
        "id": "X_Unw3z9u2-7"
      },
      "source": [
        "Ex 1 : Check the lenght of the string \"My name is python\""
      ]
    },
    {
      "cell_type": "code",
      "execution_count": null,
      "metadata": {
        "id": "nkZZQV_ajazO",
        "colab": {
          "base_uri": "https://localhost:8080/"
        },
        "outputId": "03c2211a-2644-41e4-848e-d4400e603de0"
      },
      "outputs": [
        {
          "output_type": "stream",
          "name": "stdout",
          "text": [
            "17\n"
          ]
        }
      ],
      "source": [
        "name = 'My name is python'\n",
        "print(len(name))\n"
      ]
    },
    {
      "cell_type": "markdown",
      "metadata": {
        "id": "eF-99zOSjazO"
      },
      "source": [
        "Ex 2: Check the number of times \"python\" (regardless of cases: PYTHON, python, Python\" appears in the paragraph : \"Floating-point values in Python are always done in double precision; hence, Python float types correspond to doubles in a C-like language.\""
      ]
    },
    {
      "cell_type": "code",
      "execution_count": 2,
      "metadata": {
        "id": "p-u2nJzujazP",
        "colab": {
          "base_uri": "https://localhost:8080/"
        },
        "outputId": "66221977-7515-4143-96d7-4a5bc707359c"
      },
      "outputs": [
        {
          "output_type": "stream",
          "name": "stdout",
          "text": [
            "2\n"
          ]
        }
      ],
      "source": [
        "name = \"Floating-point values in Python are always done in double precision; hence, Python float types correspond to doubles in a C-like language.\"\n",
        "new_name = name.lower()\n",
        "print(new_name.count(\"python\"))\n"
      ]
    },
    {
      "cell_type": "markdown",
      "metadata": {
        "id": "Px5gQ9RDjazQ"
      },
      "source": [
        "Ex 3: Combine two lists : ls1 = [\"apple\", \"banana\", \"cherry\"] and ls2 = [\"apple\", \"banana\", \"cherry\", \"apple\", \"cherry\"]. Print the number of elements in new list. "
      ]
    },
    {
      "cell_type": "code",
      "execution_count": null,
      "metadata": {
        "id": "Q0HA_IV8jazR",
        "colab": {
          "base_uri": "https://localhost:8080/"
        },
        "outputId": "ed451918-c15d-44ea-e55a-32b4a459dabd"
      },
      "outputs": [
        {
          "output_type": "stream",
          "name": "stdout",
          "text": [
            "['apple', 'banana', 'cherry', 'apple', 'banana', 'cherry', 'apple', 'apple']\n",
            "8\n"
          ]
        }
      ],
      "source": [
        "list_1 = [\"apple\",\"banana\",\"cherry\"]\n",
        "list_2 =[\"apple\",\"banana\",\"cherry\",\"apple\",\"apple\"]\n",
        "new_list = list_1+list_2\n",
        "print(new_list)\n",
        "print(len(new_list))\n"
      ]
    },
    {
      "cell_type": "markdown",
      "metadata": {
        "id": "wlgwzjBKjazS"
      },
      "source": [
        "\n",
        "\n",
        "```\n",
        "# This is formatted as code\n",
        "```\n",
        "\n",
        "Ex 4: Create a dictionary for the following table: "
      ]
    },
    {
      "cell_type": "markdown",
      "metadata": {
        "id": "rRf4_mp3jazS"
      },
      "source": [
        "| Key | Value | \n",
        "| --- | --- | \n",
        "| Name | Age |\n",
        "| Myo | 32 |\n",
        "| Thida | 64 |"
      ]
    },
    {
      "cell_type": "code",
      "execution_count": 8,
      "metadata": {
        "id": "Ma9SmBPKjazT",
        "colab": {
          "base_uri": "https://localhost:8080/"
        },
        "outputId": "e9d76552-a639-437a-dc8e-5a13944f034f"
      },
      "outputs": [
        {
          "output_type": "stream",
          "name": "stdout",
          "text": [
            "Age\n"
          ]
        }
      ],
      "source": [
        "dict = {'Name': 'Age', 'Myo': 32, 'Thida': 64}\n",
        "print(dict.get('Name'))"
      ]
    },
    {
      "cell_type": "raw",
      "metadata": {
        "id": "u0VEjNTZjazU"
      },
      "source": [
        "Ex 5: Combine two sets and print the combined set and its length. \n",
        "\n",
        "1.   List item\n",
        "2.   List item\n",
        "\n",
        "\n",
        "set1 = {\"Name\", \"age\", \"Height\"}\n",
        "set2 = {\"Name\", \"status\", \"Education\"}"
      ]
    },
    {
      "cell_type": "code",
      "execution_count": 4,
      "metadata": {
        "id": "aQm503OujazU",
        "colab": {
          "base_uri": "https://localhost:8080/"
        },
        "outputId": "bd65bdc3-e9a4-4143-d76c-0d81622c4e6d"
      },
      "outputs": [
        {
          "output_type": "stream",
          "name": "stdout",
          "text": [
            "{'age', 'Name', 'Education', 'Height', 'status'}\n",
            "5\n"
          ]
        }
      ],
      "source": [
        "set1 = {\"Name\", \"age\", \"Height\"}\n",
        "set2 = {\"Name\", \"status\", \"Education\"}\n",
        "new_set = set1.union(set2)\n",
        "print(new_set)\n",
        "print(len(new_set))"
      ]
    }
  ],
  "metadata": {
    "colab": {
      "provenance": []
    },
    "kernelspec": {
      "display_name": "Python 3",
      "language": "python",
      "name": "python3"
    },
    "language_info": {
      "codemirror_mode": {
        "name": "ipython",
        "version": 3
      },
      "file_extension": ".py",
      "mimetype": "text/x-python",
      "name": "python",
      "nbconvert_exporter": "python",
      "pygments_lexer": "ipython3",
      "version": "3.8.8"
    }
  },
  "nbformat": 4,
  "nbformat_minor": 0
}